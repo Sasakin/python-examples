{
 "cells": [
  {
   "cell_type": "code",
   "execution_count": 12,
   "metadata": {},
   "outputs": [
    {
     "name": "stdout",
     "output_type": "stream",
     "text": [
      "Requirement already satisfied: tinkoff-invest in c:\\users\\sasakinme\\appdata\\local\\programs\\python\\python312\\lib\\site-packages (1.0.5)\n",
      "Requirement already satisfied: prettytable in c:\\users\\sasakinme\\appdata\\local\\programs\\python\\python312\\lib\\site-packages (from tinkoff-invest) (3.12.0)\n",
      "Requirement already satisfied: iso8601 in c:\\users\\sasakinme\\appdata\\local\\programs\\python\\python312\\lib\\site-packages (from tinkoff-invest) (2.1.0)\n",
      "Requirement already satisfied: requests in c:\\users\\sasakinme\\appdata\\local\\programs\\python\\python312\\lib\\site-packages (from tinkoff-invest) (2.31.0)\n",
      "Requirement already satisfied: ujson in c:\\users\\sasakinme\\appdata\\local\\programs\\python\\python312\\lib\\site-packages (from tinkoff-invest) (5.10.0)\n",
      "Requirement already satisfied: urllib3 in c:\\users\\sasakinme\\appdata\\local\\programs\\python\\python312\\lib\\site-packages (from tinkoff-invest) (2.1.0)\n",
      "Requirement already satisfied: websocket-client in c:\\users\\sasakinme\\appdata\\local\\programs\\python\\python312\\lib\\site-packages (from tinkoff-invest) (1.8.0)\n",
      "Requirement already satisfied: wcwidth in c:\\users\\sasakinme\\appdata\\local\\programs\\python\\python312\\lib\\site-packages (from prettytable->tinkoff-invest) (0.2.13)\n",
      "Requirement already satisfied: charset-normalizer<4,>=2 in c:\\users\\sasakinme\\appdata\\local\\programs\\python\\python312\\lib\\site-packages (from requests->tinkoff-invest) (3.3.2)\n",
      "Requirement already satisfied: idna<4,>=2.5 in c:\\users\\sasakinme\\appdata\\local\\programs\\python\\python312\\lib\\site-packages (from requests->tinkoff-invest) (3.6)\n",
      "Requirement already satisfied: certifi>=2017.4.17 in c:\\users\\sasakinme\\appdata\\local\\programs\\python\\python312\\lib\\site-packages (from requests->tinkoff-invest) (2024.8.30)\n"
     ]
    }
   ],
   "source": [
    "!pip install tinkoff-invest, tinkoff-investments"
   ]
  },
  {
   "cell_type": "code",
   "execution_count": null,
   "metadata": {},
   "outputs": [
    {
     "name": "stdout",
     "output_type": "stream",
     "text": [
      "<tinkoff.invest.clients.Client object at 0x00000166E5B9E900>\n"
     ]
    },
    {
     "ename": "AttributeError",
     "evalue": "'Client' object has no attribute 'users'",
     "output_type": "error",
     "traceback": [
      "\u001b[1;31m---------------------------------------------------------------------------\u001b[0m",
      "\u001b[1;31mAttributeError\u001b[0m                            Traceback (most recent call last)",
      "Cell \u001b[1;32mIn[15], line 16\u001b[0m\n\u001b[0;32m     14\u001b[0m \u001b[38;5;28mprint\u001b[39m(client)\n\u001b[0;32m     15\u001b[0m \u001b[38;5;66;03m#print(client.orders)\u001b[39;00m\n\u001b[1;32m---> 16\u001b[0m \u001b[38;5;28mprint\u001b[39m(\u001b[43mclient\u001b[49m\u001b[38;5;241;43m.\u001b[39;49m\u001b[43musers\u001b[49m\u001b[38;5;241m.\u001b[39mget_accounts())\n",
      "\u001b[1;31mAttributeError\u001b[0m: 'Client' object has no attribute 'users'"
     ]
    }
   ],
   "source": [
    "import os\n",
    "\n",
    "from tinkoff.invest import CandleInterval,  Client\n",
    "from tinkoff.invest.utils import now\n",
    "\n",
    "from dotenv import load_dotenv\n",
    "\n",
    "# Загрузить переменные окружения из файла .env\n",
    "load_dotenv()\n",
    "\n",
    "TOKEN = os.environ[\"INVEST_TOKEN\"]\n",
    "\n",
    "client = Client(TOKEN)\n",
    "print(client)\n",
    "print(client.orders)\n",
    "print(client.users.get_accounts())"
   ]
  },
  {
   "cell_type": "code",
   "execution_count": null,
   "metadata": {},
   "outputs": [
    {
     "ename": "AttributeError",
     "evalue": "'Client' object has no attribute 'get_all_candles'",
     "output_type": "error",
     "traceback": [
      "\u001b[1;31m---------------------------------------------------------------------------\u001b[0m",
      "\u001b[1;31mAttributeError\u001b[0m                            Traceback (most recent call last)",
      "Cell \u001b[1;32mIn[7], line 1\u001b[0m\n\u001b[1;32m----> 1\u001b[0m \u001b[38;5;28;01mfor\u001b[39;00m candle \u001b[38;5;129;01min\u001b[39;00m \u001b[43mclient\u001b[49m\u001b[38;5;241;43m.\u001b[39;49m\u001b[43mget_all_candles\u001b[49m(\n\u001b[0;32m      2\u001b[0m             figi\u001b[38;5;241m=\u001b[39m\u001b[38;5;124m\"\u001b[39m\u001b[38;5;124mBBG004730N88\u001b[39m\u001b[38;5;124m\"\u001b[39m,\n\u001b[0;32m      3\u001b[0m             from_\u001b[38;5;241m=\u001b[39mnow() \u001b[38;5;241m-\u001b[39m timedelta(days\u001b[38;5;241m=\u001b[39m\u001b[38;5;241m365\u001b[39m),\n\u001b[0;32m      4\u001b[0m             interval\u001b[38;5;241m=\u001b[39mCandleInterval\u001b[38;5;241m.\u001b[39mCANDLE_INTERVAL_HOUR,\n\u001b[0;32m      5\u001b[0m         ):\n\u001b[0;32m      6\u001b[0m             \u001b[38;5;28mprint\u001b[39m(candle)\n",
      "\u001b[1;31mAttributeError\u001b[0m: 'Client' object has no attribute 'get_all_candles'"
     ]
    }
   ],
   "source": [
    "for candle in client.get_all_candles(\n",
    "            figi=\"BBG004730N88\",\n",
    "            from_=now() - timedelta(days=365),\n",
    "            interval=CandleInterval.CANDLE_INTERVAL_HOUR,\n",
    "        ):\n",
    "            print(candle)"
   ]
  }
 ],
 "metadata": {
  "kernelspec": {
   "display_name": "Python 3",
   "language": "python",
   "name": "python3"
  },
  "language_info": {
   "codemirror_mode": {
    "name": "ipython",
    "version": 3
   },
   "file_extension": ".py",
   "mimetype": "text/x-python",
   "name": "python",
   "nbconvert_exporter": "python",
   "pygments_lexer": "ipython3",
   "version": "3.12.0"
  }
 },
 "nbformat": 4,
 "nbformat_minor": 2
}
